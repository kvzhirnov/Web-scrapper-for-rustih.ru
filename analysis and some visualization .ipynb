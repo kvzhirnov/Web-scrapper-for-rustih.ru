{
 "cells": [
  {
   "cell_type": "markdown",
   "metadata": {},
   "source": [
    "# **For a start lets merge all poems files to one and clean up the text**"
   ]
  },
  {
   "cell_type": "code",
   "execution_count": 1,
   "metadata": {},
   "outputs": [],
   "source": [
    "path = '/Users/kuprone/Desktop/test'"
   ]
  },
  {
   "cell_type": "code",
   "execution_count": 8,
   "metadata": {},
   "outputs": [],
   "source": [
    "import os\n",
    "\n",
    "Dir = \"/Users/kuprone/Desktop/test\"  # path to dir with poems\n",
    "\n",
    "AllPath = [] \n",
    "\n",
    "for path in os.listdir(Dir):\n",
    "    FilePath = os.path.join(Dir, path)\n",
    "    if os.path.isfile(FilePath):\n",
    "        AllPath.append(FilePath)"
   ]
  },
  {
   "cell_type": "code",
   "execution_count": 10,
   "metadata": {},
   "outputs": [],
   "source": [
    "Output = '/Users/kuprone/Poems.txt' #path to output file\n",
    "\n",
    "with open(Output, 'w') as outfile:\n",
    "    for fname in AllPath:\n",
    "        with open(fname) as infile:\n",
    "            for line in infile:\n",
    "                outfile.write(line)"
   ]
  },
  {
   "cell_type": "code",
   "execution_count": 236,
   "metadata": {},
   "outputs": [],
   "source": [
    "f = open('/Users/kuprone/Poems.txt', \"r\", encoding=\"utf-8\")\n",
    "text = f.read()"
   ]
  },
  {
   "cell_type": "code",
   "execution_count": 237,
   "metadata": {},
   "outputs": [
    {
     "data": {
      "text/plain": [
       "'ца женского я не постиг. \\n\\n\\n\\n\\n\\nОт гнева в печени, мечты во лбу,\\nБогиня верности, храни рабу.\\nЧугунным ободом скрепи ей грудь,\\nБогиня Верности, покровом будь.\\nВсе сладколичие сними с куста,\\nКосноязычием скрепи уста…\\nЗапечатленнее кости в гробу,\\nБогиня Верности, храни рабу!\\nДабы без устали шумел станок,\\nДа будет уст ее закон — замок.\\nДабы могильного поверх горба:\\n«Единой Верности была раба!»\\nНа раздорожии, ребром к столбу,\\nБогиня Верности — распни рабу! \\n\\n\\n\\n\\n\\nЗаводь спит. Молчит вода зеркальная.\\nТолько там, где дремлют камыши,\\nЧья-то песня слышится, печальная,\\nКак последний вздох души.\\nЭто плачет лебедь умирающий,\\nОн с своим прошедшим говорит,\\nА на небе вечер догорающий\\nИ горит и не горит.\\nОтчего так грустны эти жалобы?\\nОтчего так бьется эта грудь?\\nВ этот миг душа его желала бы\\nНевозвратное вернуть.\\nВсе, чем жил с тревогой, с наслаждением,\\nВсе, на что надеялась любовь,\\nПроскользнуло быстрым сновидением,\\nНикогда не вспыхнет вновь.\\nВсе, на чем печать непоправимого,\\nБелый лебедь в этой песн'"
      ]
     },
     "execution_count": 237,
     "metadata": {},
     "output_type": "execute_result"
    }
   ],
   "source": [
    "text[10000:11000] #text sample"
   ]
  },
  {
   "cell_type": "code",
   "execution_count": 238,
   "metadata": {},
   "outputs": [
    {
     "data": {
      "text/plain": [
       "28509308"
      ]
     },
     "execution_count": 238,
     "metadata": {},
     "output_type": "execute_result"
    }
   ],
   "source": [
    "len(text) #count of symbols"
   ]
  },
  {
   "cell_type": "code",
   "execution_count": 239,
   "metadata": {},
   "outputs": [],
   "source": [
    "text = text.lower() # make text in lower reg\n",
    "text = ''.join([ch if ch != '\\n' else ' ' for ch in text])"
   ]
  },
  {
   "cell_type": "code",
   "execution_count": 240,
   "metadata": {},
   "outputs": [],
   "source": [
    "import string\n",
    "trash = string.punctuation + '\\n\\xa0«»\\t—…'"
   ]
  },
  {
   "cell_type": "code",
   "execution_count": 241,
   "metadata": {},
   "outputs": [],
   "source": [
    "text = \"\".join([ch for ch in text if ch not in trash]) # remove unwanted symbols"
   ]
  },
  {
   "cell_type": "code",
   "execution_count": 242,
   "metadata": {},
   "outputs": [
    {
     "data": {
      "text/plain": [
       "'камыши чьято песня слышится печальная как последний вздох души это плачет лебедь умирающий он с своим прошедшим говорит а на небе вечер догорающий и горит и не горит отчего так грустны эти жалобы отчего так бьется эта грудь в этот миг душа его желала бы невозвратное вернуть все чем жил с тревогой с наслаждением все на что надеялась любовь проскользнуло быстрым сновидением никогда не вспыхнет вновь все на чем печать непоправимого белый лебедь в этой песне слил точно он у озера родимого о прощении молил и когда блеснули звезды дальние и когда туман вставал в глуши лебедь пел все тише все печальнее и шептались камыши не живой он пел а умирающий оттого он пел в предсмертный час что пред смертью вечной примиряющей видел правду в первый раз       спать пора уснул бычок лёг в коробку на бочок сонный мишка лег в кровать только слон не хочет спать головой качает слон он слонихе шлет поклон       в свое сиреневое царство меня зовешь ты в петроград что это едкое коварство или и вправду ты мне рад'"
      ]
     },
     "execution_count": 242,
     "metadata": {},
     "output_type": "execute_result"
    }
   ],
   "source": [
    "text[10000:11000] # looks fine"
   ]
  },
  {
   "cell_type": "markdown",
   "metadata": {},
   "source": [
    "# Tokenize and analyze "
   ]
  },
  {
   "cell_type": "code",
   "execution_count": 243,
   "metadata": {},
   "outputs": [],
   "source": [
    "import nltk\n",
    "from nltk.probability import FreqDist\n",
    "from nltk.corpus import stopwords"
   ]
  },
  {
   "cell_type": "code",
   "execution_count": 244,
   "metadata": {},
   "outputs": [],
   "source": [
    "tokens = word_tokenize(text)"
   ]
  },
  {
   "cell_type": "code",
   "execution_count": 245,
   "metadata": {},
   "outputs": [
    {
     "data": {
      "text/plain": [
       "4507423"
      ]
     },
     "execution_count": 245,
     "metadata": {},
     "output_type": "execute_result"
    }
   ],
   "source": [
    "len(tokens) # count of words "
   ]
  },
  {
   "cell_type": "code",
   "execution_count": 246,
   "metadata": {},
   "outputs": [
    {
     "data": {
      "text/plain": [
       "['волны',\n",
       " 'и',\n",
       " 'молодость',\n",
       " 'вне',\n",
       " 'закона',\n",
       " 'тронулся',\n",
       " 'дон',\n",
       " 'погибаем',\n",
       " 'тонем',\n",
       " 'ветру',\n",
       " 'веков',\n",
       " 'доверяем',\n",
       " 'снесть',\n",
       " 'внукам',\n",
       " 'лихую',\n",
       " 'весть',\n",
       " 'да',\n",
       " 'проломилась',\n",
       " 'донская',\n",
       " 'глыба']"
      ]
     },
     "execution_count": 246,
     "metadata": {},
     "output_type": "execute_result"
    }
   ],
   "source": [
    "tokens[0:20] # sample tokens"
   ]
  },
  {
   "cell_type": "markdown",
   "metadata": {},
   "source": [
    "As you can see there's a lot of unnecessary words for analysis. So lets remove it "
   ]
  },
  {
   "cell_type": "code",
   "execution_count": 247,
   "metadata": {},
   "outputs": [],
   "source": [
    "Stopwords = stopwords.words(\"russian\")\n",
    "Stopwords.append('это')\n",
    "Stopwords.append('–')\n",
    "Stopwords.append('б')"
   ]
  },
  {
   "cell_type": "code",
   "execution_count": 248,
   "metadata": {},
   "outputs": [],
   "source": [
    "newText = []\n",
    "for token in tokens:\n",
    "    if token not in Stopwords:\n",
    "        newText.append(token)"
   ]
  },
  {
   "cell_type": "code",
   "execution_count": 249,
   "metadata": {},
   "outputs": [
    {
     "data": {
      "text/plain": [
       "['волны',\n",
       " 'молодость',\n",
       " 'вне',\n",
       " 'закона',\n",
       " 'тронулся',\n",
       " 'дон',\n",
       " 'погибаем',\n",
       " 'тонем',\n",
       " 'ветру',\n",
       " 'веков',\n",
       " 'доверяем',\n",
       " 'снесть',\n",
       " 'внукам',\n",
       " 'лихую',\n",
       " 'весть',\n",
       " 'проломилась',\n",
       " 'донская',\n",
       " 'глыба',\n",
       " 'белая',\n",
       " 'гвардия']"
      ]
     },
     "execution_count": 249,
     "metadata": {},
     "output_type": "execute_result"
    }
   ],
   "source": [
    "newText[0:20] # looks great"
   ]
  },
  {
   "cell_type": "markdown",
   "metadata": {},
   "source": [
    "Then we have to transform it to nltk format"
   ]
  },
  {
   "cell_type": "code",
   "execution_count": 250,
   "metadata": {},
   "outputs": [],
   "source": [
    "nltktext = nltk.Text(newText)\n",
    "freq = FreqDist(nltktext)"
   ]
  },
  {
   "cell_type": "code",
   "execution_count": 257,
   "metadata": {},
   "outputs": [
    {
     "data": {
      "image/png": "[encoded data removed]",
      "text/plain": [
       "<Figure size 432x288 with 1 Axes>"
      ]
     },
     "metadata": {
      "needs_background": "light"
     },
     "output_type": "display_data"
    },
    {
     "data": {
      "text/plain": [
       "<AxesSubplot:xlabel='Samples', ylabel='Counts'>"
      ]
     },
     "execution_count": 257,
     "metadata": {},
     "output_type": "execute_result"
    }
   ],
   "source": [
    "freq.plot(15) # plot of 15 most common words"
   ]
  },
  {
   "cell_type": "markdown",
   "metadata": {},
   "source": [
    "There is a plot of 15 most common word."
   ]
  },
  {
   "cell_type": "markdown",
   "metadata": {},
   "source": [
    "# epilogue"
   ]
  },
  {
   "cell_type": "markdown",
   "metadata": {},
   "source": [
    "You can also use other methods for a complete analysis. For example, the stemming. \n",
    "\n",
    "With my web-scapper i've got a more than a 4 millons words, which can be used for for training neural networks and other things."
   ]
  },
  {
   "cell_type": "code",
   "execution_count": null,
   "metadata": {},
   "outputs": [],
   "source": []
  }
 ],
 "metadata": {
  "kernelspec": {
   "display_name": "Python 3",
   "language": "python",
   "name": "python3"
  }
 },
 "nbformat": 4,
 "nbformat_minor": 4
}
