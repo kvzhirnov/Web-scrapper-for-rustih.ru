{
 "cells": [
  {
   "cell_type": "code",
   "execution_count": 7,
   "metadata": {},
   "outputs": [],
   "source": [
    "from bs4 import BeautifulSoup\n",
    "from tqdm import tqdm_notebook\n",
    "import pandas as pd\n",
    "import re\n",
    "import os\n",
    "from fake_useragent import UserAgent\n",
    "import requests"
   ]
  },
  {
   "cell_type": "code",
   "execution_count": 94,
   "metadata": {},
   "outputs": [],
   "source": [
    "url = 'https://rustih.ru/stihi-russkih-poetov-klassikov/' # website url \n",
    "\n",
    "def response(url):\n",
    "    response = requests.get(url)\n",
    "    return response\n",
    "\n",
    "def FindAuthorsHrefs(tree):\n",
    "    data = []\n",
    "    \n",
    "    bsObject = tree.find_all('div', {'class':'taxonomy-description'})\n",
    "    \n",
    "    tmp = re.findall(\"<a(.*?)</a>\", str(bsObject[0]), re.DOTALL)\n",
    "    href = re.findall(\"href=(.*?) title=\", str(tmp), re.DOTALL) #list of hrefs\n",
    "    \n",
    "    author = bsObject[0].text.split('\\n')\n",
    "    author = [x for x in author if x != ''] #list of authors\n",
    "    \n",
    "    data.append(author)\n",
    "    data.append(href)\n",
    "    \n",
    "    return data\n",
    "\n",
    "def FixHref(array):\n",
    "    for i in range(len(array[1])):\n",
    "        array[1][i] = array[1][i][1:-1]\n",
    "    return array\n",
    "    \n",
    "    \n",
    "def FindAllPoems(href):\n",
    "    tree = BeautifulSoup(href.content, 'html.parser')\n",
    "    return href\n",
    "\n",
    "\n",
    "def HrefsAllPoems(ListOfHrefs):\n",
    "    HrefsList = []\n",
    "    for href in ListOfHrefs:\n",
    "        tree = BeautifulSoup(response(href).content, 'html.parser')\n",
    "        for href1 in tree.find_all('span', {'style':'font-size: large;'}):\n",
    "            #print(href1.a.get('href'))\n",
    "            HrefsList.append(href1.a.get('href'))\n",
    "    return HrefsList\n",
    "\n",
    "\n",
    "def PoemsHrefs(HrefByAuthor):\n",
    "    AllPoemsHrefs = []\n",
    "    \n",
    "    tree = BeautifulSoup(response(HrefByAuthor).content, 'html.parser')\n",
    "    bsObject = tree.find_all('a', {'class':'title'})\n",
    "    \n",
    "    for i in range(len(bsObject)):\n",
    "        href = re.findall(\"href=(.*?)>\", str(bsObject[i]), re.DOTALL) \n",
    "        AllPoemsHrefs.append(str(href)[1:-1])\n",
    "\n",
    "    return AllPoemsHrefs\n",
    "\n",
    "\n",
    "def CleanHrefs(hrefs):\n",
    "    output = []\n",
    "    for i in hrefs:\n",
    "        output.append(i[2:-2])\n",
    "    return output\n",
    "\n",
    "\n",
    "def PoemToTxt(href, path, flag):  #params : link to a poem, path to download in .txt, download flag\n",
    "    tree = BeautifulSoup(response(href).content, 'html.parser')\n",
    "    title = tree.find('h1', {'entry-title'}).text\n",
    "    text = tree.find('div', {'class': 'entry-content poem-text'}).text\n",
    "    \n",
    "    if flag:\n",
    "        os.chdir(path)\n",
    "        file = open(title + \".txt\", \"w+\")\n",
    "        file.write(text)\n",
    "        file.close()\n",
    "    return text"
   ]
  },
  {
   "cell_type": "markdown",
   "metadata": {},
   "source": [
    "**Running**"
   ]
  },
  {
   "cell_type": "code",
   "execution_count": 82,
   "metadata": {},
   "outputs": [],
   "source": [
    "tree = BeautifulSoup(response(url).content, 'html.parser')\n",
    "Data = FindAuthorsHrefs(tree) #names and hrefs for them in 2-dim array"
   ]
  },
  {
   "cell_type": "code",
   "execution_count": 83,
   "metadata": {},
   "outputs": [],
   "source": [
    "Data = FixHref(Data) #preparing hrefs"
   ]
  },
  {
   "cell_type": "code",
   "execution_count": 84,
   "metadata": {},
   "outputs": [],
   "source": [
    "AllAutorsLinks = HrefsAllPoems(Data[1]) #there we have an array with links to authors"
   ]
  },
  {
   "cell_type": "code",
   "execution_count": 85,
   "metadata": {},
   "outputs": [],
   "source": [
    "ArrayPoemsHrefs = []\n",
    "\n",
    "for i in AllAutorsLinks:\n",
    "    ArrayPoemsHrefs.append(PoemsHrefs(i))"
   ]
  },
  {
   "cell_type": "code",
   "execution_count": 87,
   "metadata": {},
   "outputs": [],
   "source": [
    "ArrayPoemsHrefs = [x for xs in ArrayPoemsHrefs for x in xs] #list of all links to poems (count = 22760)\n",
    "ArrayPoemsHrefs = CleanHrefs(ArrayPoemsHrefs) #list of all links to poems (count = 22760)"
   ]
  },
  {
   "cell_type": "code",
   "execution_count": 88,
   "metadata": {},
   "outputs": [
    {
     "name": "stdout",
     "output_type": "stream",
     "text": [
      "22760\n"
     ]
    }
   ],
   "source": [
    "print(len(ArrayPoemsHrefs))"
   ]
  },
  {
   "cell_type": "code",
   "execution_count": 118,
   "metadata": {},
   "outputs": [
    {
     "name": "stderr",
     "output_type": "stream",
     "text": [
      "<ipython-input-118-585bc0af6d42>:1: TqdmDeprecationWarning: This function will be removed in tqdm==5.0.0\n",
      "Please use `tqdm.notebook.tqdm` instead of `tqdm.tqdm_notebook`\n",
      "  for i in tqdm_notebook(range(21355, len(ArrayPoemsHrefs))):\n"
     ]
    },
    {
     "data": {
      "application/vnd.jupyter.widget-view+json": {
       "model_id": "c5de9d9de9944ec581d87a528abdf440",
       "version_major": 2,
       "version_minor": 0
      },
      "text/plain": [
       "HBox(children=(HTML(value=''), FloatProgress(value=0.0, max=1405.0), HTML(value='')))"
      ]
     },
     "metadata": {},
     "output_type": "display_data"
    },
    {
     "name": "stdout",
     "output_type": "stream",
     "text": [
      "\n"
     ]
    }
   ],
   "source": [
    "for i in tqdm_notebook(range(0, len(ArrayPoemsHrefs))):\n",
    "    PoemToTxt(ArrayPoemsHrefs[i], \"/Users/kuprone/Desktop/test\", True) "
   ]
  },
  {
   "cell_type": "code",
   "execution_count": null,
   "metadata": {},
   "outputs": [],
   "source": []
  }
 ],
 "metadata": {
  "kernelspec": {
   "display_name": "Python 3",
   "language": "python",
   "name": "python3"
  },
  "language_info": {
   "codemirror_mode": {
    "name": "ipython",
    "version": 3
   },
   "file_extension": ".py",
   "mimetype": "text/x-python",
   "name": "python",
   "nbconvert_exporter": "python",
   "pygments_lexer": "ipython3",
   "version": "3.8.6"
  }
 },
 "nbformat": 4,
 "nbformat_minor": 4
}
